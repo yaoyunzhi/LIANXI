{
 "cells": [
  {
   "cell_type": "raw",
   "metadata": {},
   "source": [
    "#是python的单行注释\n",
    "'''是python的多行注释'''"
   ]
  },
  {
   "cell_type": "code",
   "execution_count": 1,
   "metadata": {},
   "outputs": [
    {
     "name": "stdout",
     "output_type": "stream",
     "text": [
      "123\n"
     ]
    }
   ],
   "source": [
    "print(123)#数字不用加引号"
   ]
  },
  {
   "cell_type": "code",
   "execution_count": 2,
   "metadata": {},
   "outputs": [
    {
     "name": "stdout",
     "output_type": "stream",
     "text": [
      "梦想\n"
     ]
    }
   ],
   "source": [
    "print('梦想')#汉字和英文必须加引号"
   ]
  },
  {
   "cell_type": "code",
   "execution_count": 3,
   "metadata": {},
   "outputs": [
    {
     "name": "stdout",
     "output_type": "stream",
     "text": [
      "yaoyunzhi\n"
     ]
    }
   ],
   "source": [
    "print('yaoyunzhi')"
   ]
  },
  {
   "cell_type": "code",
   "execution_count": 9,
   "metadata": {},
   "outputs": [
    {
     "name": "stdout",
     "output_type": "stream",
     "text": [
      "['False', 'None', 'True', 'and', 'as', 'assert', 'async', 'await', 'break', 'class', 'continue', 'def', 'del', 'elif', 'else', 'except', 'finally', 'for', 'from', 'global', 'if', 'import', 'in', 'is', 'lambda', 'nonlocal', 'not', 'or', 'pass', 'raise', 'return', 'try', 'while', 'with', 'yield']\n"
     ]
    }
   ],
   "source": [
    "import keyword#必须要先引入关键字模块\n",
    "print(keyword.kwlist)#然后才能打印出系统全部的关键字\n",
    "#关键字是系统使用，不能用来命名"
   ]
  },
  {
   "cell_type": "code",
   "execution_count": 12,
   "metadata": {},
   "outputs": [
    {
     "name": "stdout",
     "output_type": "stream",
     "text": [
      "hello world\n"
     ]
    }
   ],
   "source": [
    "print('hello world')"
   ]
  },
  {
   "cell_type": "code",
   "execution_count": 14,
   "metadata": {},
   "outputs": [
    {
     "name": "stdout",
     "output_type": "stream",
     "text": [
      "18\n"
     ]
    }
   ],
   "source": [
    "age=18\n",
    "print(age)"
   ]
  },
  {
   "cell_type": "code",
   "execution_count": 6,
   "metadata": {},
   "outputs": [
    {
     "name": "stdout",
     "output_type": "stream",
     "text": [
      "yao\n"
     ]
    }
   ],
   "source": [
    "name='yao'\n",
    "print(name)"
   ]
  },
  {
   "cell_type": "raw",
   "metadata": {},
   "source": [
    "#字符串的格式化\n",
    "1、  利用%表示对字符串进行格式化\n",
    "     %d : 表示此处应该放入一个整数\n",
    "     %s : 表示此处应该放入一个字符串"
   ]
  },
  {
   "cell_type": "code",
   "execution_count": 2,
   "metadata": {},
   "outputs": [
    {
     "name": "stdout",
     "output_type": "stream",
     "text": [
      "i love %s\n"
     ]
    }
   ],
   "source": [
    "s=('i love %s')\n",
    "print(s)"
   ]
  },
  {
   "cell_type": "code",
   "execution_count": 4,
   "metadata": {},
   "outputs": [
    {
     "name": "stdout",
     "output_type": "stream",
     "text": [
      "i love yuezhengyi\n"
     ]
    }
   ],
   "source": [
    "s=('i love %s' %'yuezhengyi')\n",
    "print(s)"
   ]
  },
  {
   "cell_type": "code",
   "execution_count": 5,
   "metadata": {},
   "outputs": [
    {
     "name": "stdout",
     "output_type": "stream",
     "text": [
      "i love yuezhengyi\n"
     ]
    }
   ],
   "source": [
    "s=('i love %s')\n",
    "print(s%'yuezhengyi')"
   ]
  },
  {
   "cell_type": "code",
   "execution_count": 12,
   "metadata": {},
   "outputs": [
    {
     "name": "stdout",
     "output_type": "stream",
     "text": [
      "i am %d years old\n"
     ]
    }
   ],
   "source": [
    "y=('i am %d years old')\n",
    "print(y)"
   ]
  },
  {
   "cell_type": "code",
   "execution_count": 13,
   "metadata": {},
   "outputs": [
    {
     "name": "stdout",
     "output_type": "stream",
     "text": [
      "i am 25 years old\n"
     ]
    }
   ],
   "source": [
    "y=('i am %d years old'%25)\n",
    "print(y)"
   ]
  },
  {
   "cell_type": "code",
   "execution_count": 14,
   "metadata": {},
   "outputs": [
    {
     "name": "stdout",
     "output_type": "stream",
     "text": [
      "i am 25 years old\n"
     ]
    }
   ],
   "source": [
    "y=('i am %d years old')\n",
    "print(y%25)"
   ]
  },
  {
   "cell_type": "code",
   "execution_count": 15,
   "metadata": {},
   "outputs": [
    {
     "name": "stdout",
     "output_type": "stream",
     "text": [
      "i am %s,i am %d years old\n"
     ]
    }
   ],
   "source": [
    "y=('i am %s,i am %d years old')\n",
    "print(y)"
   ]
  },
  {
   "cell_type": "code",
   "execution_count": 18,
   "metadata": {},
   "outputs": [
    {
     "name": "stdout",
     "output_type": "stream",
     "text": [
      "i am yuezhengyi,i am 25 years old\n"
     ]
    }
   ],
   "source": [
    "y=('i am %s,i am %d years old')\n",
    "print(y%('yuezhengyi',25))\n",
    "#有几个占位符就要有几个补充内容，多个补充内容用"
   ]
  },
  {
   "cell_type": "raw",
   "metadata": {},
   "source": [
    "2、用format函数进行格式化（推荐使用）\n",
    "   用{}代替%，后面用format带内容完成；大括号内可以编号"
   ]
  },
  {
   "cell_type": "code",
   "execution_count": 23,
   "metadata": {},
   "outputs": [
    {
     "name": "stdout",
     "output_type": "stream",
     "text": [
      "my name is zac\n"
     ]
    }
   ],
   "source": [
    "y=('my name is {}').format('zac')\n",
    "print(y)"
   ]
  },
  {
   "cell_type": "code",
   "execution_count": 25,
   "metadata": {},
   "outputs": [
    {
     "name": "stdout",
     "output_type": "stream",
     "text": [
      "i am 25 years old,he is 25 years old, my name is zac\n"
     ]
    }
   ],
   "source": [
    "y=('i am {0} years old,he is {0} years old, my name is {1}').format(25,'zac')\n",
    "print(y)"
   ]
  },
  {
   "cell_type": "raw",
   "metadata": {},
   "source": [
    "# none\n",
    "# 表达式\n",
    "# 运算符\n",
    "分类：1、算术运算符  \n",
    "      2、比较运算符/关系运算符\n",
    "      3、赋值运算符（常用）\n",
    "      4、位运算\n",
    "      5、成员运算符\n",
    "      6、身份运算符\n",
    "      7、逻辑运算符"
   ]
  },
  {
   "cell_type": "code",
   "execution_count": null,
   "metadata": {},
   "outputs": [],
   "source": [
    "#算术运算符\n",
    "#加法+、 减法-、 乘法*、 除法/、 \n",
    "y=3+99\n",
    "print(y)\n",
    "y=102-3\n",
    "print(y)\n",
    "y=33*2\n",
    "print(y)\n",
    "y=110/4\n",
    "print(y)"
   ]
  },
  {
   "cell_type": "code",
   "execution_count": 11,
   "metadata": {},
   "outputs": [
    {
     "name": "stdout",
     "output_type": "stream",
     "text": [
      "2\n",
      "3\n",
      "27\n"
     ]
    }
   ],
   "source": [
    "#取余数%、 取商//、 幂**、\n",
    "y=6%4\n",
    "print(y)\n",
    "y=15//4\n",
    "print(y)\n",
    "y=3**3\n",
    "print(y)"
   ]
  },
  {
   "cell_type": "code",
   "execution_count": 14,
   "metadata": {},
   "outputs": [
    {
     "name": "stdout",
     "output_type": "stream",
     "text": [
      "False\n",
      "False\n",
      "True\n"
     ]
    }
   ],
   "source": [
    "#比较运算符\n",
    "#比较结果是一个布尔值，True/False\n",
    "#等于==、 不等于！=、 大于>、 小于<、 大于等于>=、 小于等于<=\n",
    "print(8==9)\n",
    "print(8!=8)\n",
    "y=4**2\n",
    "print(7<y)"
   ]
  },
  {
   "cell_type": "code",
   "execution_count": 15,
   "metadata": {},
   "outputs": [
    {
     "name": "stdout",
     "output_type": "stream",
     "text": [
      "9\n"
     ]
    }
   ],
   "source": [
    "#赋值运算符\n",
    "#缩写：+=、 -+、 *=、 /=、 %=、 //=、 **=、\n",
    "a=2\n",
    "b=5\n",
    "\n",
    "a=1\n",
    "a +=8\n",
    "print(a)"
   ]
  },
  {
   "cell_type": "raw",
   "metadata": {},
   "source": [
    "#逻辑运算符\n",
    "#短路运算\n",
    "# and和  or或  not非 \n",
    "#运算规则：\n",
    "#and看作乘法\n",
    "#or看作加法\n",
    "#true=1\n",
    "#false=0"
   ]
  },
  {
   "cell_type": "code",
   "execution_count": 22,
   "metadata": {},
   "outputs": [
    {
     "name": "stdout",
     "output_type": "stream",
     "text": [
      "True\n"
     ]
    }
   ],
   "source": [
    "#逻辑运算符案例\n",
    "a = True\n",
    "b = False\n",
    "c = True\n",
    "d = a and c or b \n",
    "print(d)"
   ]
  },
  {
   "cell_type": "raw",
   "metadata": {},
   "source": [
    "成员运算符\n",
    "- in\n",
    "- not in"
   ]
  },
  {
   "cell_type": "code",
   "execution_count": 23,
   "metadata": {},
   "outputs": [
    {
     "name": "stdout",
     "output_type": "stream",
     "text": [
      "True\n"
     ]
    }
   ],
   "source": [
    "z=[1,2,3,4,5]\n",
    "a=4\n",
    "print(a in z)"
   ]
  },
  {
   "cell_type": "code",
   "execution_count": 24,
   "metadata": {},
   "outputs": [
    {
     "name": "stdout",
     "output_type": "stream",
     "text": [
      "False\n"
     ]
    }
   ],
   "source": [
    "y=[1,2,3,4]\n",
    "a=6\n",
    "b=a in y\n",
    "print(b)"
   ]
  },
  {
   "cell_type": "raw",
   "metadata": {},
   "source": [
    "身份运算符\n",
    "- is  : 检测两个变量是同一变量\n",
    "- is not  : 检测两个变量不是同一变量"
   ]
  },
  {
   "cell_type": "code",
   "execution_count": 25,
   "metadata": {},
   "outputs": [
    {
     "name": "stdout",
     "output_type": "stream",
     "text": [
      "True\n"
     ]
    }
   ],
   "source": [
    "#事例\n",
    "a = 9\n",
    "b = 9\n",
    "print(a is b)"
   ]
  },
  {
   "cell_type": "raw",
   "metadata": {},
   "source": [
    "运算符优先级\n",
    "1、括号具有最高的优先级\n",
    "2、 优先级表格\n",
    "\n",
    "**  指数（最高优先级）\n",
    "~ + - 按位翻转 一元加法 一元减法\n",
    "* / % // 乘法 除法 取余数 取商\n",
    "+ -  加法 减法\n",
    "<<   >>  右移运算符  左移运算符\n",
    "& 位 'and'\n",
    "^ | 位元算符\n",
    "<= < > >=  比较运算符\n",
    "<> == != 等于运算符\n",
    "= %= /= //= -= += *= **=  赋值运算符\n",
    "is  not is    身份运算符\n",
    "in  not in 成员运算符\n",
    "not or and 逻辑运算符  "
   ]
  },
  {
   "cell_type": "markdown",
   "metadata": {},
   "source": [
    "# 程序结构\n",
    "- 顺序\n",
    "- 分支\n",
    "- 循环"
   ]
  },
  {
   "cell_type": "markdown",
   "metadata": {},
   "source": [
    "### 分支"
   ]
  },
  {
   "cell_type": "markdown",
   "metadata": {},
   "source": [
    "###  单路循环\n",
    "- if"
   ]
  },
  {
   "cell_type": "code",
   "execution_count": 6,
   "metadata": {},
   "outputs": [
    {
     "name": "stdout",
     "output_type": "stream",
     "text": [
      "未成年\n",
      "去上学\n"
     ]
    }
   ],
   "source": [
    "age = 1\n",
    "if age < 18:\n",
    "    print('未成年')\n",
    "    print('去上学')"
   ]
  },
  {
   "cell_type": "code",
   "execution_count": 9,
   "metadata": {},
   "outputs": [
    {
     "name": "stdout",
     "output_type": "stream",
     "text": [
      "毕业了\n"
     ]
    }
   ],
   "source": [
    "age = 99\n",
    "if age < 18:\n",
    "    print('未成年')\n",
    "    print('去上学')\n",
    "    \n",
    "print('毕业了')"
   ]
  },
  {
   "cell_type": "markdown",
   "metadata": {},
   "source": [
    "### 双路循环\n",
    "- if     else"
   ]
  },
  {
   "cell_type": "code",
   "execution_count": 7,
   "metadata": {},
   "outputs": [
    {
     "name": "stdout",
     "output_type": "stream",
     "text": [
      "请输入你的年龄：33\n",
      "你的年龄是33\n",
      "岳正一是我儿\n"
     ]
    }
   ],
   "source": [
    "age = input('请输入你的年龄：')\n",
    "print('你的年龄是{}'.format(age))\n",
    "if age >= '18':\n",
    "    print('岳正一是我儿')\n",
    "else:\n",
    "    print('我儿还没成年')"
   ]
  },
  {
   "cell_type": "markdown",
   "metadata": {},
   "source": [
    "###  多路分支\n",
    "- if    elif   elif     else"
   ]
  },
  {
   "cell_type": "code",
   "execution_count": 16,
   "metadata": {},
   "outputs": [
    {
     "name": "stdout",
     "output_type": "stream",
     "text": [
      "请输入你的分数:77\n",
      "C\n"
     ]
    }
   ],
   "source": [
    "#int()   把字符串转换成整数\n",
    "score = input('请输入你的分数:')\n",
    "score = int(score)\n",
    "if score >= 90:\n",
    "    print('A')\n",
    "elif score >= 80:\n",
    "    print('B')\n",
    "elif score >= 70:\n",
    "    print('C')\n",
    "elif score >= 60:\n",
    "    print('D')\n",
    "else: \n",
    "    print('不及格')"
   ]
  },
  {
   "cell_type": "markdown",
   "metadata": {},
   "source": [
    "# 循环语句\n",
    "- for 循环\n",
    "- while 循环"
   ]
  },
  {
   "cell_type": "markdown",
   "metadata": {},
   "source": [
    "#### for循环\n",
    "- for 变量 in 序列：\n",
    "-list: list[1,2,3,4,5,6,7]"
   ]
  },
  {
   "cell_type": "code",
   "execution_count": 23,
   "metadata": {},
   "outputs": [
    {
     "name": "stdout",
     "output_type": "stream",
     "text": [
      "[1, 2, 3, 4, 5, 6, 7, 8]\n"
     ]
    }
   ],
   "source": [
    "# 例题\n",
    "num=[1,2,3,4,5,6,7,8]\n",
    "print(num)"
   ]
  },
  {
   "cell_type": "code",
   "execution_count": 28,
   "metadata": {},
   "outputs": [
    {
     "name": "stdout",
     "output_type": "stream",
     "text": [
      "yuezhengyi\n",
      "liugenbang\n",
      "sunaojun\n",
      "yaoyunzhi\n"
     ]
    }
   ],
   "source": [
    "# 例题\n",
    "name=['yuezhengyi','liugenbang','sunaojun','yaoyunzhi']\n",
    "for x in name:\n",
    "    print (x)"
   ]
  },
  {
   "cell_type": "code",
   "execution_count": 40,
   "metadata": {},
   "outputs": [
    {
     "name": "stdout",
     "output_type": "stream",
     "text": [
      "yuezhengyi\n",
      "这就是我儿子\n",
      "liugenbang\n",
      "这是个小臂就\n",
      "sunaojun\n",
      "这是个小臂就\n",
      "yaoyunzhi\n",
      "这是个小臂就\n"
     ]
    }
   ],
   "source": [
    "# 例题\n",
    "name=['yuezhengyi','liugenbang','sunaojun','yaoyunzhi']\n",
    "for x in name:\n",
    "    print (x)\n",
    "    if x == 'yuezhengyi':\n",
    "        print('这就是我儿子')\n",
    "    else:\n",
    "        print('这是个小臂就')\n"
   ]
  },
  {
   "cell_type": "markdown",
   "metadata": {},
   "source": [
    "# range介绍\n",
    "- 生成一个数字序列\n",
    "- 具体范围可以设定"
   ]
  },
  {
   "cell_type": "code",
   "execution_count": 42,
   "metadata": {},
   "outputs": [
    {
     "name": "stdout",
     "output_type": "stream",
     "text": [
      "0\n",
      "1\n",
      "2\n",
      "3\n",
      "4\n",
      "5\n",
      "6\n",
      "7\n",
      "8\n",
      "9\n",
      "10\n"
     ]
    }
   ],
   "source": [
    "# range练习\n",
    "for y in range(0,11):\n",
    "    print(y)"
   ]
  },
  {
   "cell_type": "markdown",
   "metadata": {},
   "source": [
    "# for  else语句"
   ]
  },
  {
   "cell_type": "code",
   "execution_count": 8,
   "metadata": {},
   "outputs": [
    {
     "name": "stdout",
     "output_type": "stream",
     "text": [
      "yuezhengyi\n",
      "我是你爸爸\n",
      "liugenbang\n",
      "你是我儿子\n",
      "sunaojun\n",
      "你是我儿子\n",
      "wangxinliang\n",
      "你是我儿子\n",
      "没有别的儿子了\n"
     ]
    }
   ],
   "source": [
    "name=['yuezhengyi','liugenbang','sunaojun','wangxinliang']\n",
    "for x in name:\n",
    "    print(x)\n",
    "    if x == 'yuezhengyi':\n",
    "        print('我是你爸爸')\n",
    "    else:\n",
    "        print('你是我儿子')\n",
    "else:\n",
    "    print('没有别的儿子了')"
   ]
  },
  {
   "cell_type": "markdown",
   "metadata": {},
   "source": [
    "### 循环-break\\ continue\\ pass \n",
    "- break: 无条件结束整个循环\n",
    "- contineu: 无条件结束本次循环\n",
    "- pass：表示略过"
   ]
  },
  {
   "cell_type": "code",
   "execution_count": 24,
   "metadata": {},
   "outputs": [
    {
     "name": "stdout",
     "output_type": "stream",
     "text": [
      "没找到\n"
     ]
    }
   ],
   "source": [
    "# break 实例\n",
    "#寻找数字7\n",
    "for i in range(1,5):\n",
    "    if i == 7:\n",
    "        print('找到了')\n",
    "        break\n",
    "else:\n",
    "    print('没找到')"
   ]
  },
  {
   "cell_type": "code",
   "execution_count": 27,
   "metadata": {},
   "outputs": [
    {
     "name": "stdout",
     "output_type": "stream",
     "text": [
      "这是偶数2\n",
      "这是偶数4\n",
      "这是偶数6\n",
      "这是偶数8\n",
      "这是偶数10\n",
      "这是偶数12\n",
      "这是偶数14\n"
     ]
    }
   ],
   "source": [
    "# continue 实例(2)\n",
    "#寻找偶数\n",
    "for i in range(1,15):\n",
    "    if i%2==1:\n",
    "        continue\n",
    "    else:\n",
    "        print('这是偶数{0}'.format(i))"
   ]
  },
  {
   "cell_type": "code",
   "execution_count": 28,
   "metadata": {},
   "outputs": [
    {
     "name": "stdout",
     "output_type": "stream",
     "text": [
      "这是偶数2\n",
      "这是偶数4\n",
      "这是偶数6\n",
      "这是偶数8\n",
      "这是偶数10\n",
      "这是偶数12\n",
      "这是偶数14\n"
     ]
    }
   ],
   "source": [
    "# continue 实例(2)-正常模式\n",
    "#寻找偶数\n",
    "for i in range(1,15):\n",
    "    if i % 2 == 0:\n",
    "        print('这是偶数{0}'.format(i))"
   ]
  },
  {
   "cell_type": "code",
   "execution_count": 29,
   "metadata": {},
   "outputs": [
    {
     "name": "stdout",
     "output_type": "stream",
     "text": [
      "略过pass，只是占位符\n",
      "略过pass，只是占位符\n",
      "略过pass，只是占位符\n",
      "略过pass，只是占位符\n",
      "略过pass，只是占位符\n",
      "略过pass，只是占位符\n",
      "略过pass，只是占位符\n",
      "略过pass，只是占位符\n",
      "略过pass，只是占位符\n"
     ]
    }
   ],
   "source": [
    "# pass 实例\n",
    "# 占位符\n",
    "for i in range(1,10):\n",
    "    pass\n",
    "    print('略过pass，只是占位符')"
   ]
  },
  {
   "cell_type": "markdown",
   "metadata": {},
   "source": [
    "# while 函数\n",
    "- 跟for循环相似，没有规定循环周期\n",
    "- 达到目标以后直接停止\n",
    "-while   else:达到目标停止循环，运行else，每个while只能运行一次else"
   ]
  },
  {
   "cell_type": "code",
   "execution_count": 34,
   "metadata": {},
   "outputs": [
    {
     "name": "stdout",
     "output_type": "stream",
     "text": [
      "第1年拿了10650.0元钱\n",
      "第2年拿了11342.25元钱\n",
      "第3年拿了12079.49625元钱\n",
      "第4年拿了12864.663506249999元钱\n",
      "第5年拿了13700.866634156248元钱\n",
      "第6年拿了14591.422965376403元钱\n",
      "第7年拿了15539.865458125869元钱\n",
      "第8年拿了16549.956712904048元钱\n",
      "第9年拿了17625.70389924281元钱\n",
      "第10年拿了18771.37465269359元钱\n",
      "第11年拿了19991.51400511867元钱\n",
      "第12年拿了21290.962415451384元钱\n"
     ]
    }
   ],
   "source": [
    "# 例题\n",
    "cash = 10000\n",
    "year = 0\n",
    "while cash<20000:\n",
    "    cash = cash*(1+0.065)\n",
    "    year += 1\n",
    "    print('第{0}年拿了{1}元钱'.format(year,cash))"
   ]
  },
  {
   "cell_type": "code",
   "execution_count": 36,
   "metadata": {},
   "outputs": [
    {
     "name": "stdout",
     "output_type": "stream",
     "text": [
      "第12年拿了21290.962415451384元钱\n"
     ]
    }
   ],
   "source": [
    "# 不锁紧会出现的现象\n",
    "cash = 10000\n",
    "year = 0\n",
    "while cash < 20000:\n",
    "    cash = cash *(1+0.065)\n",
    "    year = year +1\n",
    "    #print 跟while对齐，就只会出现一行\n",
    "print('第{0}年拿了{1}元钱'.format(year,cash))"
   ]
  },
  {
   "cell_type": "code",
   "execution_count": 38,
   "metadata": {},
   "outputs": [
    {
     "name": "stdout",
     "output_type": "stream",
     "text": [
      "第1年得到了10650.0元钱\n",
      "第2年得到了11342.25元钱\n",
      "第3年得到了12079.49625元钱\n",
      "第4年得到了12864.663506249999元钱\n",
      "第5年得到了13700.866634156248元钱\n",
      "第6年得到了14591.422965376403元钱\n",
      "第7年得到了15539.865458125869元钱\n",
      "第8年得到了16549.956712904048元钱\n",
      "第9年得到了17625.70389924281元钱\n",
      "第10年得到了18771.37465269359元钱\n",
      "第11年得到了19991.51400511867元钱\n",
      "第12年得到了21290.962415451384元钱\n",
      "终于翻倍了\n",
      "有钱了，有钱了\n"
     ]
    }
   ],
   "source": [
    "# else 例题\n",
    "cash = 10000\n",
    "year = 0\n",
    "while cash < 20000:\n",
    "    cash = cash*(1+0.065)\n",
    "    year = year +1\n",
    "    print('第{0}年得到了{1}元钱'.format(year,cash))\n",
    "else:\n",
    "    print('终于翻倍了')\n",
    "    print('有钱了，有钱了')"
   ]
  }
 ],
 "metadata": {
  "kernelspec": {
   "display_name": "Python 3",
   "language": "python",
   "name": "python3"
  },
  "language_info": {
   "codemirror_mode": {
    "name": "ipython",
    "version": 3
   },
   "file_extension": ".py",
   "mimetype": "text/x-python",
   "name": "python",
   "nbconvert_exporter": "python",
   "pygments_lexer": "ipython3",
   "version": "3.7.1"
  }
 },
 "nbformat": 4,
 "nbformat_minor": 2
}
